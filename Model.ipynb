{
  "nbformat": 4,
  "nbformat_minor": 0,
  "metadata": {
    "colab": {
      "provenance": []
    },
    "kernelspec": {
      "name": "python3",
      "display_name": "Python 3"
    },
    "language_info": {
      "name": "python"
    }
  },
  "cells": [
    {
      "cell_type": "code",
      "execution_count": 2,
      "metadata": {
        "colab": {
          "base_uri": "https://localhost:8080/"
        },
        "id": "mB6vzV5M1Mdt",
        "outputId": "5a2b9da5-592c-4fb7-b30e-3b01ffc46e29"
      },
      "outputs": [
        {
          "output_type": "stream",
          "name": "stdout",
          "text": [
            "ee.ImageCollection({\n",
            "  \"functionInvocationValue\": {\n",
            "    \"functionName\": \"Collection.filter\",\n",
            "    \"arguments\": {\n",
            "      \"collection\": {\n",
            "        \"functionInvocationValue\": {\n",
            "          \"functionName\": \"Collection.map\",\n",
            "          \"arguments\": {\n",
            "            \"baseAlgorithm\": {\n",
            "              \"functionDefinitionValue\": {\n",
            "                \"argumentNames\": [\n",
            "                  \"_MAPPING_VAR_0_0\"\n",
            "                ],\n",
            "                \"body\": {\n",
            "                  \"functionInvocationValue\": {\n",
            "                    \"functionName\": \"Image.select\",\n",
            "                    \"arguments\": {\n",
            "                      \"bandSelectors\": {\n",
            "                        \"constantValue\": [\n",
            "                          \"mean_2m_air_temperature\"\n",
            "                        ]\n",
            "                      },\n",
            "                      \"input\": {\n",
            "                        \"argumentReference\": \"_MAPPING_VAR_0_0\"\n",
            "                      }\n",
            "                    }\n",
            "                  }\n",
            "                }\n",
            "              }\n",
            "            },\n",
            "            \"collection\": {\n",
            "              \"functionInvocationValue\": {\n",
            "                \"functionName\": \"ImageCollection.load\",\n",
            "                \"arguments\": {\n",
            "                  \"id\": {\n",
            "                    \"constantValue\": \"ECMWF/ERA5/DAILY\"\n",
            "                  }\n",
            "                }\n",
            "              }\n",
            "            }\n",
            "          }\n",
            "        }\n",
            "      },\n",
            "      \"filter\": {\n",
            "        \"functionInvocationValue\": {\n",
            "          \"functionName\": \"Filter.dateRangeContains\",\n",
            "          \"arguments\": {\n",
            "            \"leftValue\": {\n",
            "              \"functionInvocationValue\": {\n",
            "                \"functionName\": \"DateRange\",\n",
            "                \"arguments\": {\n",
            "                  \"end\": {\n",
            "                    \"constantValue\": \"2019-07-31\"\n",
            "                  },\n",
            "                  \"start\": {\n",
            "                    \"constantValue\": \"2019-07-01\"\n",
            "                  }\n",
            "                }\n",
            "              }\n",
            "            },\n",
            "            \"rightField\": {\n",
            "              \"constantValue\": \"system:time_start\"\n",
            "            }\n",
            "          }\n",
            "        }\n",
            "      }\n",
            "    }\n",
            "  }\n",
            "})\n"
          ]
        }
      ],
      "source": [
        "import ee\n",
        "ee.Authenticate()\n",
        "ee.Initialize(project='climax-for-bogota')\n",
        "\n",
        "# Load ERA5 dataset\n",
        "era5_2mt = ee.ImageCollection('ECMWF/ERA5/DAILY') \\\n",
        "    .select('mean_2m_air_temperature') \\\n",
        "    .filter(ee.Filter.date('2019-07-01', '2019-07-31'))\n",
        "\n",
        "print(era5_2mt)"
      ]
    },
    {
      "cell_type": "code",
      "source": [],
      "metadata": {
        "id": "MVGIyRX62n61"
      },
      "execution_count": null,
      "outputs": []
    }
  ]
}